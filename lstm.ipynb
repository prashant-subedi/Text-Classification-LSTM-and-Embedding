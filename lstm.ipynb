{
 "cells": [
  {
   "cell_type": "code",
   "execution_count": 198,
   "metadata": {},
   "outputs": [],
   "source": [
    "from keras.layers import Embedding,Dense,LSTM,Dropout\n",
    "import pandas as pd\n",
    "from keras.preprocessing.text import one_hot,hashing_trick,Tokenizer\n",
    "from keras.preprocessing.sequence import pad_sequences\n",
    "from keras.utils import to_categorical\n",
    "from sklearn.preprocessing import LabelEncoder"
   ]
  },
  {
   "cell_type": "code",
   "execution_count": 199,
   "metadata": {},
   "outputs": [],
   "source": [
    "df = pd.read_csv(\"train_set.csv\",delimiter=\",\",encoding='latin-1')\n",
    "data = df.as_matrix()\n",
    "num_class = 12"
   ]
  },
  {
   "cell_type": "code",
   "execution_count": 200,
   "metadata": {},
   "outputs": [],
   "source": [
    "X = data[:,1]"
   ]
  },
  {
   "cell_type": "code",
   "execution_count": 201,
   "metadata": {},
   "outputs": [],
   "source": [
    "Y = data[:,0]"
   ]
  },
  {
   "cell_type": "code",
   "execution_count": 202,
   "metadata": {},
   "outputs": [],
   "source": [
    "tokenizer = Tokenizer()"
   ]
  },
  {
   "cell_type": "code",
   "execution_count": 203,
   "metadata": {},
   "outputs": [],
   "source": [
    "tokenizer.fit_on_texts(X)"
   ]
  },
  {
   "cell_type": "code",
   "execution_count": null,
   "metadata": {},
   "outputs": [],
   "source": []
  },
  {
   "cell_type": "code",
   "execution_count": 204,
   "metadata": {},
   "outputs": [],
   "source": [
    "X = tokenizer.texts_to_sequences(X)"
   ]
  },
  {
   "cell_type": "code",
   "execution_count": 205,
   "metadata": {},
   "outputs": [],
   "source": [
    "X = pad_sequences(X,padding='post')"
   ]
  },
  {
   "cell_type": "code",
   "execution_count": 206,
   "metadata": {},
   "outputs": [
    {
     "name": "stdout",
     "output_type": "stream",
     "text": [
      "None\n"
     ]
    }
   ],
   "source": [
    "print(tokenizer.num_words)"
   ]
  },
  {
   "cell_type": "code",
   "execution_count": 207,
   "metadata": {},
   "outputs": [],
   "source": [
    "label = LabelEncoder()\n",
    "Y = label.fit_transform(Y)\n",
    "Y = to_categorical(Y)"
   ]
  },
  {
   "cell_type": "code",
   "execution_count": 208,
   "metadata": {},
   "outputs": [],
   "source": [
    "from sklearn.model_selection import train_test_split"
   ]
  },
  {
   "cell_type": "code",
   "execution_count": 209,
   "metadata": {},
   "outputs": [],
   "source": [
    "X_train,X_test,Y_train,Y_test = train_test_split(X,Y,test_size=0.0)"
   ]
  },
  {
   "cell_type": "code",
   "execution_count": 210,
   "metadata": {},
   "outputs": [
    {
     "data": {
      "text/plain": [
       "((23615, 21), (0, 21), (23615, 12), (0, 12))"
      ]
     },
     "execution_count": 210,
     "metadata": {},
     "output_type": "execute_result"
    }
   ],
   "source": [
    "X_train.shape,X_test.shape,Y_train.shape,Y_test.shape"
   ]
  },
  {
   "cell_type": "code",
   "execution_count": 211,
   "metadata": {},
   "outputs": [],
   "source": [
    "#####Preprocessing Work Completed###############"
   ]
  },
  {
   "cell_type": "code",
   "execution_count": 212,
   "metadata": {},
   "outputs": [],
   "source": [
    "from keras.models import Sequential\n",
    "from keras.layers import Embedding, LSTM, Dense"
   ]
  },
  {
   "cell_type": "code",
   "execution_count": 213,
   "metadata": {},
   "outputs": [],
   "source": [
    "model = Sequential()"
   ]
  },
  {
   "cell_type": "code",
   "execution_count": 214,
   "metadata": {},
   "outputs": [],
   "source": [
    "model.add(Embedding(len(tokenizer.word_index)+1,100,input_length=X.shape[1]))"
   ]
  },
  {
   "cell_type": "code",
   "execution_count": 215,
   "metadata": {},
   "outputs": [],
   "source": [
    "model.add(LSTM(64))\n",
    "model.add(Dropout(0.2))"
   ]
  },
  {
   "cell_type": "code",
   "execution_count": 216,
   "metadata": {},
   "outputs": [],
   "source": [
    "model.add(Dense(num_class,activation='softmax'))"
   ]
  },
  {
   "cell_type": "code",
   "execution_count": 217,
   "metadata": {},
   "outputs": [],
   "source": [
    "model.compile(optimizer='Adam',loss='categorical_crossentropy',metrics=['accuracy'])"
   ]
  },
  {
   "cell_type": "code",
   "execution_count": 218,
   "metadata": {},
   "outputs": [
    {
     "name": "stdout",
     "output_type": "stream",
     "text": [
      "Train on 18892 samples, validate on 4723 samples\n",
      "Epoch 1/20\n",
      "18892/18892 [==============================] - 37s 2ms/step - loss: 0.9555 - acc: 0.6829 - val_loss: 0.4727 - val_acc: 0.8636\n",
      "Epoch 2/20\n",
      "18892/18892 [==============================] - 39s 2ms/step - loss: 0.3194 - acc: 0.9092 - val_loss: 0.3311 - val_acc: 0.9015\n",
      "Epoch 3/20\n",
      "18892/18892 [==============================] - 40s 2ms/step - loss: 0.1743 - acc: 0.9539 - val_loss: 0.3278 - val_acc: 0.909243 - acc: 0.953\n",
      "Epoch 4/20\n",
      "18892/18892 [==============================] - 40s 2ms/step - loss: 0.1148 - acc: 0.9693 - val_loss: 0.3079 - val_acc: 0.9176\n",
      "Epoch 5/20\n",
      "18892/18892 [==============================] - 39s 2ms/step - loss: 0.0807 - acc: 0.9799 - val_loss: 0.3244 - val_acc: 0.9193\n",
      "Epoch 6/20\n",
      "18892/18892 [==============================] - 36s 2ms/step - loss: 0.0647 - acc: 0.9828 - val_loss: 0.3431 - val_acc: 0.9191\n",
      "Epoch 7/20\n",
      "18892/18892 [==============================] - 35s 2ms/step - loss: 0.0481 - acc: 0.9878 - val_loss: 0.3205 - val_acc: 0.9259\n",
      "Epoch 8/20\n",
      "18892/18892 [==============================] - 35s 2ms/step - loss: 0.0382 - acc: 0.9904 - val_loss: 0.3445 - val_acc: 0.9272\n",
      "Epoch 9/20\n",
      "18892/18892 [==============================] - 36s 2ms/step - loss: 0.0400 - acc: 0.9895 - val_loss: 0.3608 - val_acc: 0.9217\n",
      "Epoch 10/20\n",
      "18892/18892 [==============================] - 39s 2ms/step - loss: 0.0315 - acc: 0.9916 - val_loss: 0.3450 - val_acc: 0.9214\n",
      "Epoch 11/20\n",
      "18892/18892 [==============================] - 37s 2ms/step - loss: 0.0345 - acc: 0.9898 - val_loss: 0.3475 - val_acc: 0.9200\n",
      "Epoch 12/20\n",
      "18892/18892 [==============================] - 37s 2ms/step - loss: 0.0277 - acc: 0.9917 - val_loss: 0.3796 - val_acc: 0.9231\n",
      "Epoch 13/20\n",
      "18892/18892 [==============================] - 38s 2ms/step - loss: 0.0248 - acc: 0.9932 - val_loss: 0.3734 - val_acc: 0.9246\n",
      "Epoch 14/20\n",
      "18892/18892 [==============================] - 42s 2ms/step - loss: 0.0224 - acc: 0.9931 - val_loss: 0.3588 - val_acc: 0.9291\n",
      "Epoch 15/20\n",
      "18892/18892 [==============================] - 39s 2ms/step - loss: 0.0207 - acc: 0.9935 - val_loss: 0.3561 - val_acc: 0.9263\n",
      "Epoch 16/20\n",
      "18892/18892 [==============================] - 39s 2ms/step - loss: 0.0176 - acc: 0.9948 - val_loss: 0.4041 - val_acc: 0.9261\n",
      "Epoch 17/20\n",
      "18892/18892 [==============================] - 39s 2ms/step - loss: 0.0170 - acc: 0.9947 - val_loss: 0.4469 - val_acc: 0.9128\n",
      "Epoch 18/20\n",
      "18892/18892 [==============================] - 39s 2ms/step - loss: 0.0172 - acc: 0.9947 - val_loss: 0.3832 - val_acc: 0.9225\n",
      "Epoch 19/20\n",
      "18892/18892 [==============================] - 42s 2ms/step - loss: 0.0170 - acc: 0.9942 - val_loss: 0.4257 - val_acc: 0.9225\n",
      "Epoch 20/20\n",
      "18892/18892 [==============================] - 41s 2ms/step - loss: 0.0136 - acc: 0.9951 - val_loss: 0.3995 - val_acc: 0.9231\n"
     ]
    },
    {
     "data": {
      "text/plain": [
       "<keras.callbacks.History at 0x7f7c7e1596d8>"
      ]
     },
     "execution_count": 218,
     "metadata": {},
     "output_type": "execute_result"
    }
   ],
   "source": [
    "model.fit(X_train,Y_train,batch_size=24,epochs=20,validation_split=0.2)"
   ]
  },
  {
   "cell_type": "code",
   "execution_count": 220,
   "metadata": {},
   "outputs": [],
   "source": [
    "history = _"
   ]
  },
  {
   "cell_type": "code",
   "execution_count": 226,
   "metadata": {},
   "outputs": [],
   "source": [
    "import matplotlib.pyplot as plt"
   ]
  },
  {
   "cell_type": "code",
   "execution_count": 227,
   "metadata": {},
   "outputs": [
    {
     "data": {
      "text/plain": [
       "[<matplotlib.lines.Line2D at 0x7f7c7b9f17f0>]"
      ]
     },
     "execution_count": 227,
     "metadata": {},
     "output_type": "execute_result"
    }
   ],
   "source": [
    "plt.plot(history.history['acc'])"
   ]
  },
  {
   "cell_type": "code",
   "execution_count": 228,
   "metadata": {},
   "outputs": [
    {
     "data": {
      "text/plain": [
       "[<matplotlib.lines.Line2D at 0x7f7c7b9fb048>]"
      ]
     },
     "execution_count": 228,
     "metadata": {},
     "output_type": "execute_result"
    }
   ],
   "source": [
    "plt.plot(history.history['val_acc'])"
   ]
  },
  {
   "cell_type": "code",
   "execution_count": 229,
   "metadata": {},
   "outputs": [
    {
     "data": {
      "text/plain": [
       "<matplotlib.legend.Legend at 0x7f7c7b9fb940>"
      ]
     },
     "execution_count": 229,
     "metadata": {},
     "output_type": "execute_result"
    }
   ],
   "source": [
    "plt.xlabel('epoch')\n",
    "plt.ylabel('accuracy')\n",
    "plt.legend(['train', 'validation'], loc='lower right')"
   ]
  },
  {
   "cell_type": "code",
   "execution_count": 230,
   "metadata": {},
   "outputs": [
    {
     "data": {
      "image/png": "[encoded data removed]",
      "text/plain": [
       "<matplotlib.figure.Figure at 0x7f7c7d91d4a8>"
      ]
     },
     "metadata": {},
     "output_type": "display_data"
    }
   ],
   "source": [
    "plt.show()"
   ]
  },
  {
   "cell_type": "code",
   "execution_count": 195,
   "metadata": {},
   "outputs": [
    {
     "name": "stdout",
     "output_type": "stream",
     "text": [
      "4723/4723 [==============================] - 1s 198us/step\n"
     ]
    },
    {
     "data": {
      "text/plain": [
       "[0.44975030444611336, 0.9176370951550354]"
      ]
     },
     "execution_count": 195,
     "metadata": {},
     "output_type": "execute_result"
    }
   ],
   "source": []
  },
  {
   "cell_type": "code",
   "execution_count": null,
   "metadata": {},
   "outputs": [],
   "source": []
  },
  {
   "cell_type": "code",
   "execution_count": null,
   "metadata": {},
   "outputs": [],
   "source": []
  }
 ],
 "metadata": {
  "kernelspec": {
   "display_name": "Python 3",
   "language": "python",
   "name": "python3"
  },
  "language_info": {
   "codemirror_mode": {
    "name": "ipython",
    "version": 3
   },
   "file_extension": ".py",
   "mimetype": "text/x-python",
   "name": "python",
   "nbconvert_exporter": "python",
   "pygments_lexer": "ipython3",
   "version": "3.5.2"
  }
 },
 "nbformat": 4,
 "nbformat_minor": 2
}
