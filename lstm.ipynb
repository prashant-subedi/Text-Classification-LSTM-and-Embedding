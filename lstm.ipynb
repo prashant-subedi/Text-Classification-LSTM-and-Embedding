{
 "cells": [
  {
   "cell_type": "code",
   "execution_count": 163,
   "metadata": {},
   "outputs": [],
   "source": [
    "from keras.layers import Embedding,Dense,LSTM,Dropout\n",
    "import pandas as pd\n",
    "from keras.preprocessing.text import one_hot,hashing_trick,Tokenizer\n",
    "from keras.preprocessing.sequence import pad_sequences\n",
    "from keras.utils import to_categorical\n",
    "from sklearn.preprocessing import LabelEncoder"
   ]
  },
  {
   "cell_type": "code",
   "execution_count": 164,
   "metadata": {},
   "outputs": [],
   "source": [
    "df = pd.read_csv(\"train_set.csv\",delimiter=\",\",encoding='latin-1')\n",
    "data = df.as_matrix()\n",
    "num_class = 12"
   ]
  },
  {
   "cell_type": "code",
   "execution_count": 165,
   "metadata": {},
   "outputs": [],
   "source": [
    "X = data[:,1]"
   ]
  },
  {
   "cell_type": "code",
   "execution_count": 166,
   "metadata": {},
   "outputs": [],
   "source": [
    "Y = data[:,0]"
   ]
  },
  {
   "cell_type": "code",
   "execution_count": 167,
   "metadata": {},
   "outputs": [],
   "source": [
    "tokenizer = Tokenizer()"
   ]
  },
  {
   "cell_type": "code",
   "execution_count": 168,
   "metadata": {},
   "outputs": [],
   "source": [
    "tokenizer.fit_on_texts(X)"
   ]
  },
  {
   "cell_type": "code",
   "execution_count": null,
   "metadata": {},
   "outputs": [],
   "source": []
  },
  {
   "cell_type": "code",
   "execution_count": 169,
   "metadata": {},
   "outputs": [],
   "source": [
    "X = tokenizer.texts_to_sequences(X)"
   ]
  },
  {
   "cell_type": "code",
   "execution_count": 170,
   "metadata": {},
   "outputs": [],
   "source": [
    "X = pad_sequences(X,padding='post')"
   ]
  },
  {
   "cell_type": "code",
   "execution_count": 171,
   "metadata": {},
   "outputs": [
    {
     "name": "stdout",
     "output_type": "stream",
     "text": [
      "None\n"
     ]
    }
   ],
   "source": [
    "print(tokenizer.num_words)"
   ]
  },
  {
   "cell_type": "code",
   "execution_count": 172,
   "metadata": {},
   "outputs": [],
   "source": [
    "label = LabelEncoder()\n",
    "Y = label.fit_transform(Y)\n",
    "Y = to_categorical(Y)"
   ]
  },
  {
   "cell_type": "code",
   "execution_count": 173,
   "metadata": {},
   "outputs": [],
   "source": [
    "from sklearn.model_selection import train_test_split"
   ]
  },
  {
   "cell_type": "code",
   "execution_count": 174,
   "metadata": {},
   "outputs": [],
   "source": [
    "X_train,X_test,Y_train,Y_test = train_test_split(X,Y,test_size=0.0)"
   ]
  },
  {
   "cell_type": "code",
   "execution_count": 175,
   "metadata": {},
   "outputs": [
    {
     "data": {
      "text/plain": [
       "((23615, 21), (0, 21), (23615, 12), (0, 12))"
      ]
     },
     "execution_count": 175,
     "metadata": {},
     "output_type": "execute_result"
    }
   ],
   "source": [
    "X_train.shape,X_test.shape,Y_train.shape,Y_test.shape"
   ]
  },
  {
   "cell_type": "code",
   "execution_count": 176,
   "metadata": {},
   "outputs": [],
   "source": [
    "#####Preprocessing Work Completed###############"
   ]
  },
  {
   "cell_type": "code",
   "execution_count": 184,
   "metadata": {},
   "outputs": [],
   "source": [
    "from keras.models import Sequential\n",
    "from keras.layers import Embedding, LSTM, Dense"
   ]
  },
  {
   "cell_type": "code",
   "execution_count": 193,
   "metadata": {},
   "outputs": [],
   "source": [
    "model = Sequential()"
   ]
  },
  {
   "cell_type": "code",
   "execution_count": 194,
   "metadata": {},
   "outputs": [],
   "source": [
    "model.add(Embedding(len(tokenizer.word_index)+1,100,input_length=X.shape[1]))\n",
    "model.add(Dropout(0.2))"
   ]
  },
  {
   "cell_type": "code",
   "execution_count": 195,
   "metadata": {},
   "outputs": [],
   "source": [
    "model.add(LSTM(64))\n",
    "model.add(Dropout(0.3))"
   ]
  },
  {
   "cell_type": "code",
   "execution_count": 196,
   "metadata": {},
   "outputs": [],
   "source": [
    "model.add(Dense(num_class,activation='softmax'))"
   ]
  },
  {
   "cell_type": "code",
   "execution_count": 197,
   "metadata": {},
   "outputs": [],
   "source": [
    "model.compile(optimizer='Adam',loss='categorical_crossentropy',metrics=['accuracy'])"
   ]
  },
  {
   "cell_type": "code",
   "execution_count": null,
   "metadata": {},
   "outputs": [
    {
     "name": "stdout",
     "output_type": "stream",
     "text": [
      "Train on 18892 samples, validate on 4723 samples\n",
      "Epoch 1/20\n",
      "18892/18892 [==============================] - 39s 2ms/step - loss: 1.1166 - acc: 0.6113 - val_loss: 0.4778 - val_acc: 0.8575\n",
      "Epoch 2/20\n",
      "18892/18892 [==============================] - 38s 2ms/step - loss: 0.3532 - acc: 0.8996 - val_loss: 0.3507 - val_acc: 0.8893\n",
      "Epoch 3/20\n",
      "18892/18892 [==============================] - 34s 2ms/step - loss: 0.1748 - acc: 0.9529 - val_loss: 0.3013 - val_acc: 0.9121\n",
      "Epoch 4/20\n",
      "18892/18892 [==============================] - 34s 2ms/step - loss: 0.1082 - acc: 0.9729 - val_loss: 0.3073 - val_acc: 0.9210\n",
      "Epoch 5/20\n",
      "18892/18892 [==============================] - 35s 2ms/step - loss: 0.0702 - acc: 0.9830 - val_loss: 0.3369 - val_acc: 0.9261\n",
      "Epoch 6/20\n",
      "18892/18892 [==============================] - 36s 2ms/step - loss: 0.0536 - acc: 0.9864 - val_loss: 0.3316 - val_acc: 0.9297\n",
      "Epoch 7/20\n",
      "18892/18892 [==============================] - 41s 2ms/step - loss: 0.0477 - acc: 0.9871 - val_loss: 0.3191 - val_acc: 0.9299\n",
      "Epoch 8/20\n",
      "18892/18892 [==============================] - 37s 2ms/step - loss: 0.0392 - acc: 0.9906 - val_loss: 0.3445 - val_acc: 0.9316\n",
      "Epoch 9/20\n",
      "18892/18892 [==============================] - 36s 2ms/step - loss: 0.0391 - acc: 0.9893 - val_loss: 0.3845 - val_acc: 0.9219\n",
      "Epoch 10/20\n",
      "18892/18892 [==============================] - 42s 2ms/step - loss: 0.0345 - acc: 0.9908 - val_loss: 0.3438 - val_acc: 0.9289\n",
      "Epoch 11/20\n",
      "18892/18892 [==============================] - 38s 2ms/step - loss: 0.0294 - acc: 0.9923 - val_loss: 0.3470 - val_acc: 0.9314\n",
      "Epoch 12/20\n",
      "18892/18892 [==============================] - 42s 2ms/step - loss: 0.0273 - acc: 0.9922 - val_loss: 0.3488 - val_acc: 0.9265\n",
      "Epoch 13/20\n",
      "18892/18892 [==============================] - 48s 3ms/step - loss: 0.0212 - acc: 0.9937 - val_loss: 0.3932 - val_acc: 0.9293\n",
      "Epoch 14/20\n",
      "18892/18892 [==============================] - 37s 2ms/step - loss: 0.0220 - acc: 0.9932 - val_loss: 0.3973 - val_acc: 0.9246\n",
      "Epoch 15/20\n",
      "18892/18892 [==============================] - 36s 2ms/step - loss: 0.0250 - acc: 0.9926 - val_loss: 0.3762 - val_acc: 0.9286\n",
      "Epoch 16/20\n",
      "18892/18892 [==============================] - 36s 2ms/step - loss: 0.0175 - acc: 0.9941 - val_loss: 0.3943 - val_acc: 0.9329\n",
      "Epoch 17/20\n",
      "18892/18892 [==============================] - 36s 2ms/step - loss: 0.0165 - acc: 0.9945 - val_loss: 0.3987 - val_acc: 0.9346\n",
      "Epoch 18/20\n",
      "18892/18892 [==============================] - 36s 2ms/step - loss: 0.0209 - acc: 0.9936 - val_loss: 0.4225 - val_acc: 0.9265\n",
      "Epoch 19/20\n",
      "18892/18892 [==============================] - 37s 2ms/step - loss: 0.0205 - acc: 0.9941 - val_loss: 0.3869 - val_acc: 0.9329\n",
      "Epoch 20/20\n",
      " 3504/18892 [====>.........................] - ETA: 33s - loss: 0.0126 - acc: 0.9960"
     ]
    }
   ],
   "source": [
    "model.fit(X_train,Y_train,batch_size=24,epochs=20,validation_split=0.2,shuffle=True)"
   ]
  },
  {
   "cell_type": "code",
   "execution_count": null,
   "metadata": {},
   "outputs": [],
   "source": [
    "history = _"
   ]
  },
  {
   "cell_type": "code",
   "execution_count": null,
   "metadata": {},
   "outputs": [],
   "source": [
    "import matplotlib.pyplot as plt"
   ]
  },
  {
   "cell_type": "code",
   "execution_count": null,
   "metadata": {},
   "outputs": [],
   "source": [
    "plt.plot(history.history['acc'])"
   ]
  },
  {
   "cell_type": "code",
   "execution_count": null,
   "metadata": {},
   "outputs": [],
   "source": [
    "plt.plot(history.history['val_acc'])"
   ]
  },
  {
   "cell_type": "code",
   "execution_count": null,
   "metadata": {},
   "outputs": [],
   "source": [
    "plt.xlabel('epoch')\n",
    "plt.ylabel('accuracy')\n",
    "plt.legend(['train', 'validation'], loc='lower right')"
   ]
  },
  {
   "cell_type": "code",
   "execution_count": null,
   "metadata": {},
   "outputs": [],
   "source": [
    "plt.show()"
   ]
  },
  {
   "cell_type": "code",
   "execution_count": 195,
   "metadata": {},
   "outputs": [
    {
     "name": "stdout",
     "output_type": "stream",
     "text": [
      "4723/4723 [==============================] - 1s 198us/step\n"
     ]
    },
    {
     "data": {
      "text/plain": [
       "[0.44975030444611336, 0.9176370951550354]"
      ]
     },
     "execution_count": 195,
     "metadata": {},
     "output_type": "execute_result"
    }
   ],
   "source": []
  },
  {
   "cell_type": "code",
   "execution_count": null,
   "metadata": {},
   "outputs": [],
   "source": []
  },
  {
   "cell_type": "code",
   "execution_count": null,
   "metadata": {},
   "outputs": [],
   "source": []
  }
 ],
 "metadata": {
  "kernelspec": {
   "display_name": "Python 3",
   "language": "python",
   "name": "python3"
  },
  "language_info": {
   "codemirror_mode": {
    "name": "ipython",
    "version": 3
   },
   "file_extension": ".py",
   "mimetype": "text/x-python",
   "name": "python",
   "nbconvert_exporter": "python",
   "pygments_lexer": "ipython3",
   "version": "3.5.2"
  }
 },
 "nbformat": 4,
 "nbformat_minor": 2
}
